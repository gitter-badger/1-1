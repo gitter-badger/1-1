{
 "cells": [
  {
   "cell_type": "code",
   "execution_count": 1,
   "metadata": {
    "collapsed": true
   },
   "outputs": [],
   "source": [
    "    %reload_ext literacy"
   ]
  },
  {
   "cell_type": "code",
   "execution_count": 2,
   "metadata": {},
   "outputs": [
    {
     "data": {
      "text/markdown": [
       "\n",
       "# Callisto Morn #1\n",
       "\n",
       "## _on_ Saturday November 11, 2017 _@_ the Georgia Tech Research Institute\n",
       "\n",
       "__Callisto Morn__ is a satellite conference orbitting the Project Jupyter.  At each __Callisto Morn__, Jupyter beginners and veterans will join to share the gravity of their work.  These events will organize designers, developers, and scientists across the southeast region.\n",
       "\n",
       "## [Submit a Talk](https://docs.google.com/forms/d/e/1FAIpQLSfY1c4y2vLE-q3VMBjOpvTi4pK5D6Q9KudNk25AsxQUjsT3eA/viewform)\n",
       "\n",
       "\n",
       "## [Github](https://github.com/tonyfast/callistory) \n",
       "\n",
       "[![Gitter](https://badges.gitter.im/tonyfast/callistory.svg)](https://gitter.im/tonyfast/callistory?utm_source=badge&utm_medium=badge&utm_campaign=pr-badge&utm_content=body_badge)\n",
       "\n",
       "\n",
       "[![Build Status](https://travis-ci.org/tonyfast/callistory.svg?branch=master)](https://travis-ci.org/tonyfast/callistory)\n",
       "\n",
       "\n",
       "## [Questions?](https://github.com/tonyfast/callistory/issues) \n",
       "\n",
       "---\n",
       "\n",
       "# Coming Soon\n",
       "\n",
       "## ~~[Tickets]()~~\n"
      ],
      "text/plain": [
       "<IPython.core.display.Markdown object>"
      ]
     },
     "metadata": {},
     "output_type": "display_data"
    }
   ],
   "source": [
    "about.md"
   ]
  },
  {
   "cell_type": "markdown",
   "metadata": {},
   "source": [
    "---\n",
    "\n",
    "# Developer\n",
    "\n",
    "All build logic is contained with in the `readme.ipynb` file.  Use `nbconvert` to execute this notebook with the command below.\n",
    "\n",
    "    !jupyter nbconvert --to markdown --config config.py readme.ipynb\n",
    "    \n",
    "## [Conference Website](https://tonyfast.github.io/callistory/)\n",
    "\n",
    "\n",
    "This project maintains an index of notebooks on the `master` branch.  The Github Pages deployment separates out the HTML and Markdown content from the source documents.   \n",
    "\n",
    "### [Travis Pages Deployment](https://docs.travis-ci.com/user/deployment/pages/)"
   ]
  },
  {
   "cell_type": "code",
   "execution_count": null,
   "metadata": {},
   "outputs": [
    {
     "data": {
      "text/markdown": [
       "    %%file config.py\n",
       "    c.Exporter.preprocessors.append('literacy.template.Execute')\n",
       "    c.TemplateExporter.exclude_input=True\n",
       "    c.TemplateExporter.exclude_input_prompt=True"
      ],
      "text/plain": [
       "<IPython.core.display.Markdown object>"
      ]
     },
     "metadata": {},
     "output_type": "display_data"
    },
    {
     "name": "stdout",
     "output_type": "stream",
     "text": [
      "Overwriting config.py\n"
     ]
    }
   ],
   "source": [
    "    %%file config.py\n",
    "    c.Exporter.preprocessors.append('literacy.template.Execute')\n",
    "    c.TemplateExporter.exclude_input=True\n",
    "    c.TemplateExporter.exclude_input_prompt=True"
   ]
  },
  {
   "cell_type": "code",
   "execution_count": 3,
   "metadata": {},
   "outputs": [
    {
     "name": "stdout",
     "output_type": "stream",
     "text": [
      "[NbConvertApp] Converting notebook about.ipynb to markdown\r\n",
      "[NbConvertApp] Writing 790 bytes to about.md\r\n",
      "[NbConvertApp] Converting notebook contributing.ipynb to markdown\r\n",
      "[NbConvertApp] Writing 857 bytes to contributing.md\r\n",
      "[NbConvertApp] Converting notebook index.ipynb to markdown\r\n",
      "[NbConvertApp] Writing 2976 bytes to index.md\r\n",
      "[NbConvertApp] Converting notebook long.ipynb to markdown\r\n",
      "[NbConvertApp] Writing 1157 bytes to long.md\r\n",
      "[NbConvertApp] Converting notebook participants.ipynb to markdown\r\n",
      "[NbConvertApp] Writing 30 bytes to participants.md\r\n",
      "[NbConvertApp] Converting notebook readme.ipynb to markdown\r\n",
      "[NbConvertApp] Writing 3197 bytes to readme.md\r\n",
      "[NbConvertApp] Converting notebook short.ipynb to markdown\r\n",
      "[NbConvertApp] Writing 120 bytes to short.md\r\n",
      "[NbConvertApp] Converting notebook index.ipynb to html\r\n",
      "[NbConvertApp] Executing notebook with kernel: python3\r\n",
      "[NbConvertApp] Writing 258689 bytes to index.html\r\n"
     ]
    }
   ],
   "source": [
    "    !jupyter nbconvert --to markdown *.ipynb\n",
    "    !jupyter nbconvert --config config.py index.ipynb "
   ]
  },
  {
   "cell_type": "code",
   "execution_count": null,
   "metadata": {},
   "outputs": [],
   "source": [
    "contributing.md"
   ]
  },
  {
   "cell_type": "code",
   "execution_count": null,
   "metadata": {},
   "outputs": [],
   "source": [
    "    %%file custom.css\n",
    "    .output code {display: none;}"
   ]
  }
 ],
 "metadata": {
  "kernelspec": {
   "display_name": "Python 3",
   "language": "python",
   "name": "python3"
  },
  "language_info": {
   "codemirror_mode": {
    "name": "ipython",
    "version": 3
   },
   "file_extension": ".py",
   "mimetype": "text/x-python",
   "name": "python",
   "nbconvert_exporter": "python",
   "pygments_lexer": "ipython3",
   "version": "3.5.3"
  }
 },
 "nbformat": 4,
 "nbformat_minor": 2
}
